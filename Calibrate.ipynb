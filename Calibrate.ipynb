{
 "cells": [
  {
   "cell_type": "code",
   "execution_count": null,
   "metadata": {},
   "outputs": [],
   "source": [
    "from solid import *\n",
    "from solid.utils import *\n",
    "import viewscad\n",
    "\n",
    "r = viewscad.Renderer(openscad_exec='D:\\Program Files\\OpenSCAD\\openscad.exe')\n",
    "\n",
    "pipe_od = 10\n",
    "pipe_id = 5\n",
    "seg_length = 10\n",
    "outer = cylinder(d=pipe_od, h=seg_length)\n",
    "inner = cylinder(d=pipe_id, h=seg_length)\n",
    "pipe_a = outer - hole()(inner)\n",
    "r.render(pipe_a)"
   ]
  },
  {
   "cell_type": "code",
   "execution_count": null,
   "metadata": {},
   "outputs": [],
   "source": [
    "from solid import *\n",
    "from solid.utils import *\n",
    "import viewscad\n",
    "\n",
    "pipe_od = float(input(\"What is the outer diameter?\"))\n",
    "pipe_id = float(input(\"What is the inner diameter?\"))\n",
    "\n",
    "def pipe(pipe_od,pipe_id):\n",
    "\n",
    "    seg_length = 10\n",
    "    outer = cylinder(d=pipe_od, h=seg_length)\n",
    "    inner = cylinder(d=pipe_id, h=seg_length)\n",
    "    pipe = outer - hole()(inner)\n",
    "    r.render(pipe)\n",
    "    \n",
    "if (pipe_od>pipe_id):\n",
    "    pipe(pipe_od,pipe_id)\n",
    "else: \n",
    "    print('Double Check Values')"
   ]
  },
  {
   "cell_type": "code",
   "execution_count": null,
   "metadata": {},
   "outputs": [],
   "source": [
    "from solid import *\n",
    "from solid.utils import *\n",
    "import viewscad\n",
    "\n",
    "innerdiameters = [20,12]\n",
    "thickness = 12\n",
    "outerdiameters = list(map(lambda x : x + 2*thickness, innerdiameters))\n",
    "\n",
    "left = cylinder(d=outerdiameters[0],h=1)\n",
    "leftinner = cylinder(d=innerdiameters[0],h=1)\n",
    "left = left-hole()(leftinner)\n",
    "goright = cylinder(d=outerdiameters[1],h=1)\n",
    "gorightinner = cylinder(d=innerdiameters[1],h=1)\n",
    "goright = goright-hole()(gorightinner)\n",
    "goright = right(20)(goright)\n",
    "\n",
    "\n",
    "r.render(left + goright)"
   ]
  },
  {
   "cell_type": "code",
   "execution_count": null,
   "metadata": {},
   "outputs": [],
   "source": []
  }
 ],
 "metadata": {
  "kernelspec": {
   "display_name": "Python 3",
   "language": "python",
   "name": "python3"
  },
  "language_info": {
   "codemirror_mode": {
    "name": "ipython",
    "version": 3
   },
   "file_extension": ".py",
   "mimetype": "text/x-python",
   "name": "python",
   "nbconvert_exporter": "python",
   "pygments_lexer": "ipython3",
   "version": "3.7.4"
  }
 },
 "nbformat": 4,
 "nbformat_minor": 2
}
