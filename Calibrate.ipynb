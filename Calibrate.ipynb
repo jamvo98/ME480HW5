{
 "cells": [
  {
   "cell_type": "code",
   "execution_count": null,
   "metadata": {},
   "outputs": [],
   "source": [

    "#1a\n",

    "from solid import *\n",
    "from solid.utils import *\n",
    "import viewscad\n",
    "\n",
    "r = viewscad.Renderer(openscad_exec='D:\\Program Files\\OpenSCAD\\openscad.exe')\n",
    "\n",
    "pipe_od = 10\n",
    "pipe_id = 5\n",
    "seg_length = 10\n",

    "outer = cylinder(r=pipe_od, h=seg_length)\n",
    "inner = cylinder(r=pipe_id, h=seg_length)\n",

    "pipe_a = outer - hole()(inner)\n",
    "r.render(pipe_a)"
   ]
  },
  {
   "cell_type": "code",
   "execution_count": null,
   "metadata": {},
   "outputs": [],
   "source": [

    "#1b\n",

    "from solid import *\n",
    "from solid.utils import *\n",
    "import viewscad\n",
    "\n",
    "pipe_od = float(input(\"What is the outer diameter?\"))\n",
    "pipe_id = float(input(\"What is the inner diameter?\"))\n",
    "\n",
    "def pipe(pipe_od,pipe_id):\n",
    "\n",
    "    seg_length = 10\n",
    "    outer = cylinder(d=pipe_od, h=seg_length)\n",
    "    inner = cylinder(d=pipe_id, h=seg_length)\n",
    "    pipe = outer - hole()(inner)\n",
    "    r.render(pipe)\n",
    "    \n",
    "if (pipe_od>pipe_id):\n",
    "    pipe(pipe_od,pipe_id)\n",
    "else: \n",
    "    print('Double Check Values')"
   ]
  },
  {
   "cell_type": "code",
   "execution_count": null,
   "metadata": {},
   "outputs": [],
   "source": [

    "#1c\n",

    "from solid import *\n",
    "from solid.utils import *\n",
    "import viewscad\n",
    "\n",
    "innerdiameters = [20,12]\n",
    "thickness = 12\n",
    "outerdiameters = list(map(lambda x : x + 2*thickness, innerdiameters))\n",
    "\n",
    "left = cylinder(d=outerdiameters[0],h=1)\n",
    "leftinner = cylinder(d=innerdiameters[0],h=1)\n",
    "left = left-hole()(leftinner)\n",
    "goright = cylinder(d=outerdiameters[1],h=1)\n",
    "gorightinner = cylinder(d=innerdiameters[1],h=1)\n",
    "goright = goright-hole()(gorightinner)\n",
    "goright = right(20)(goright)\n",
    "\n",
    "\n",
    "r.render(left + goright)"
   ]
  },
  {
   "cell_type": "code",

   "execution_count": 37,
   "metadata": {},
   "outputs": [
    {
     "data": {
      "application/vnd.jupyter.widget-view+json": {
       "model_id": "d73111143a8b44bda29656ecef572846",
       "version_major": 2,
       "version_minor": 0
      },
      "text/plain": [
       "VBox(children=(HTML(value=''), Renderer(background='#cccc88', background_opacity=0.0, camera=PerspectiveCamera…"
      ]
     },
     "metadata": {},
     "output_type": "display_data"
    }
   ],
   "source": [
    "#2b\n",
    "from solid import *\n",
    "from solid.utils import *\n",
    "import viewscad\n",
    "\n",
    "\n",
    "def battleship(diameters, separation, height):\n",
    "    c1 = cylinder(d=max(diameters)+30,h=25)\n",
    "    c2 = translate([separation*(len(diameters)-1)+10,0,0])(c1)\n",
    "    boat = hull()(c1,c2)  \n",
    "    for i in range(len(diameters)):\n",
    "        posts = cylinder(diameters[i],height)\n",
    "        posts2 = translate([separation*i,0,0])(posts)\n",
    "        boat += posts2\n",
    "    r.render(boat)   \n",
    "    \n",
    "diameters = [20,18,16,14,14]\n",
    "separation = 50\n",
    "height = 60\n",
    "\n",
    "battleship(diameters,separation,height)"
   ]
  },
  {
   "cell_type": "code",

   "execution_count": null,
   "metadata": {},
   "outputs": [],
   "source": []
  }
 ],
 "metadata": {
  "kernelspec": {
   "display_name": "Python 3",
   "language": "python",
   "name": "python3"
  },
  "language_info": {
   "codemirror_mode": {
    "name": "ipython",
    "version": 3
   },
   "file_extension": ".py",
   "mimetype": "text/x-python",
   "name": "python",
   "nbconvert_exporter": "python",
   "pygments_lexer": "ipython3",
   "version": "3.7.4"
  }
 },
 "nbformat": 4,
 "nbformat_minor": 2
}
